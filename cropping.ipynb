{
 "cells": [
  {
   "cell_type": "code",
   "execution_count": null,
   "metadata": {},
   "outputs": [],
   "source": [
    "#Cropping TIFF images of size 1024x1024 to four 512x512 (png) tiles\n",
    "import os\n",
    "from contextlib import contextmanager\n",
    "import rasterio\n",
    "from rasterio import Affine\n",
    "from rasterio.enums import Resampling\n",
    "import glob\n",
    "from pathlib import Path\n",
    "from itertools import product\n",
    "import rasterio as rio\n",
    "from rasterio import windows\n",
    "            \n",
    "output = '//Users/rohullahnajibi/desktop/Berkeley_Lab/RTU_Bounding_Box/cropped_B&W_masks/'\n",
    "input_file  = '/Users/rohullahnajibi/desktop/Berkeley_Lab/RTU_Bounding_Box/Black_&_White_Labels/'\n",
    "if not os.path.exists(output):\n",
    "    os.mkdir(output)\n",
    "def get_tiles(ds, width, height):\n",
    "    ncols, nrows = ds.meta['width'], ds.meta['height']\n",
    "    offsets = product(range(0, ncols, width), range(0, nrows, height))\n",
    "    big_window = windows.Window(col_off=0, row_off=0, width=ncols, height=nrows)\n",
    "    for col_off, row_off in  offsets:\n",
    "        window =windows.Window(col_off=col_off, row_off=row_off, width=width, height=height).intersection(big_window)\n",
    "        transform = windows.transform(window, ds.transform)\n",
    "        yield window, transform\n",
    "for filename in glob.glob(os.path.join(input_file, '*.png')):\n",
    "    with rio.open(filename) as inds:\n",
    "        tile_width, tile_height = 512, 512\n",
    "        i, j = -1, 0\n",
    "        meta = inds.meta.copy()\n",
    "        for window, transform in get_tiles(inds, tile_width, tile_height):\n",
    "            meta['transform'] = transform\n",
    "            meta['width'], meta['height'] = window.width, window.height\n",
    "            if j%5 == 0:\n",
    "                j = 0\n",
    "                i += 1\n",
    "            string = output + Path(filename).stem + '_' + str(i) + '-' + str(j) + '.png'\n",
    "            j += 1\n",
    "            with rio.open(string, 'w', **meta) as outds:\n",
    "                outds.write(inds.read(window=window))\n",
    "                \n",
    "#This code gives the extension .png to every image, which is good for the masks but not the images. \n",
    "#To rename .png to .jpg for the images, here is my code:\n",
    "\n",
    "#converting images from png to jpg\n",
    "import os\n",
    "in_put = '/Users/rohullahnajibi/desktop/berkeley_lab/RTU_Bounding_Box/raw_cropped_img'\n",
    "for filename in os.listdir(in_put):\n",
    "    if filename.endswith('.png'):\n",
    "        os.rename(os.path.join(in_put, filename), os.path.join(in_put, filename.replace('png', 'jpg')))\n"
   ]
  }
 ],
 "metadata": {
  "kernelspec": {
   "display_name": "Python 3",
   "language": "python",
   "name": "python3"
  },
  "language_info": {
   "codemirror_mode": {
    "name": "ipython",
    "version": 3
   },
   "file_extension": ".py",
   "mimetype": "text/x-python",
   "name": "python",
   "nbconvert_exporter": "python",
   "pygments_lexer": "ipython3",
   "version": "3.7.3"
  }
 },
 "nbformat": 4,
 "nbformat_minor": 4
}
